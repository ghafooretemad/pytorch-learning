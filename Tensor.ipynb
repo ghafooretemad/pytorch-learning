{
  "nbformat": 4,
  "nbformat_minor": 0,
  "metadata": {
    "colab": {
      "name": "Tensor.ipynb",
      "provenance": [],
      "authorship_tag": "ABX9TyPvczAkX2RVSPAIMIj1Dn0F",
      "include_colab_link": true
    },
    "kernelspec": {
      "name": "python3",
      "display_name": "Python 3"
    },
    "language_info": {
      "name": "python"
    }
  },
  "cells": [
    {
      "cell_type": "markdown",
      "metadata": {
        "id": "view-in-github",
        "colab_type": "text"
      },
      "source": [
        "<a href=\"https://colab.research.google.com/github/ghafooretemad/pytorch-learning/blob/main/Tensor.ipynb\" target=\"_parent\"><img src=\"https://colab.research.google.com/assets/colab-badge.svg\" alt=\"Open In Colab\"/></a>"
      ]
    },
    {
      "cell_type": "code",
      "execution_count": 1,
      "metadata": {
        "id": "Sy2_NydAfubc"
      },
      "outputs": [],
      "source": [
        "import numpy as np\n",
        "import torch"
      ]
    },
    {
      "cell_type": "markdown",
      "source": [
        "Tensor is like numpy ndarray that run in all kinds of hardware like GPU\n",
        "Tensor can be initialised in different ways like:"
      ],
      "metadata": {
        "id": "Wq7yWCO0hECt"
      }
    },
    {
      "cell_type": "code",
      "source": [
        "input_data = [[2,4,5], [1,3,5], [3,6,7]]\n",
        "my_tensor = torch.tensor(input_data)\n",
        "print(my_tensor)"
      ],
      "metadata": {
        "colab": {
          "base_uri": "https://localhost:8080/"
        },
        "id": "SjlFFwk6g9Vv",
        "outputId": "2bb3ece8-03e0-4ced-97ee-7e18c1e17bc9"
      },
      "execution_count": 2,
      "outputs": [
        {
          "output_type": "stream",
          "name": "stdout",
          "text": [
            "tensor([[2, 4, 5],\n",
            "        [1, 3, 5],\n",
            "        [3, 6, 7]])\n"
          ]
        }
      ]
    },
    {
      "cell_type": "markdown",
      "source": [
        "Tensor can be created from numpy array"
      ],
      "metadata": {
        "id": "kQ0YR1eKhvt7"
      }
    },
    {
      "cell_type": "code",
      "source": [
        "np_array = np.array(input_data)\n",
        "np_tensor = torch.from_numpy(np_array)\n",
        "print(np_tensor)"
      ],
      "metadata": {
        "colab": {
          "base_uri": "https://localhost:8080/"
        },
        "id": "OL26SLHTg9Zq",
        "outputId": "dc962a3f-2b09-4ac1-a8d7-dfbb92387f01"
      },
      "execution_count": 3,
      "outputs": [
        {
          "output_type": "stream",
          "name": "stdout",
          "text": [
            "tensor([[2, 4, 5],\n",
            "        [1, 3, 5],\n",
            "        [3, 6, 7]])\n"
          ]
        }
      ]
    },
    {
      "cell_type": "markdown",
      "source": [
        "Tensor can be created from another tensor"
      ],
      "metadata": {
        "id": "fUHReUJuiRJu"
      }
    },
    {
      "cell_type": "code",
      "source": [
        "my_tensor1 = torch.ones_like(my_tensor)\n",
        "print(my_tensor1)"
      ],
      "metadata": {
        "colab": {
          "base_uri": "https://localhost:8080/"
        },
        "id": "gbsrEKffg9cr",
        "outputId": "a531be3c-b725-4d7a-9ed9-8d4d865f2099"
      },
      "execution_count": 4,
      "outputs": [
        {
          "output_type": "stream",
          "name": "stdout",
          "text": [
            "tensor([[1, 1, 1],\n",
            "        [1, 1, 1],\n",
            "        [1, 1, 1]])\n"
          ]
        }
      ]
    },
    {
      "cell_type": "markdown",
      "source": [
        "We can modify data type of tensor"
      ],
      "metadata": {
        "id": "bY-ARQ2eio_q"
      }
    },
    {
      "cell_type": "code",
      "source": [
        "my_tensor2 = torch.rand_like(my_tensor1, dtype=torch.float)\n",
        "print(my_tensor2)"
      ],
      "metadata": {
        "colab": {
          "base_uri": "https://localhost:8080/"
        },
        "id": "kp11chmsg9fa",
        "outputId": "9459543f-f4a5-45d2-d608-65695b0d390c"
      },
      "execution_count": 5,
      "outputs": [
        {
          "output_type": "stream",
          "name": "stdout",
          "text": [
            "tensor([[0.8906, 0.5922, 0.6427],\n",
            "        [0.0410, 0.4123, 0.6664],\n",
            "        [0.3942, 0.9168, 0.1150]])\n"
          ]
        }
      ]
    },
    {
      "cell_type": "markdown",
      "source": [
        "In the following example, shape is a tuple of tensor dimension"
      ],
      "metadata": {
        "id": "lnFOc6EjjSYA"
      }
    },
    {
      "cell_type": "code",
      "source": [
        "shape = (3,4)\n",
        "my_dm_tensor = torch.rand(shape)\n",
        "print(my_dm_tensor)"
      ],
      "metadata": {
        "colab": {
          "base_uri": "https://localhost:8080/"
        },
        "id": "jrFAxWybjZTZ",
        "outputId": "3e44b7e6-2f59-42a6-bca3-af235c0da16a"
      },
      "execution_count": 6,
      "outputs": [
        {
          "output_type": "stream",
          "name": "stdout",
          "text": [
            "tensor([[0.5216, 0.9368, 0.2742, 0.0316],\n",
            "        [0.0261, 0.1295, 0.5943, 0.2149],\n",
            "        [0.6541, 0.0401, 0.1457, 0.6763]])\n"
          ]
        }
      ]
    },
    {
      "cell_type": "markdown",
      "source": [
        "**Attributes of a Tensor**\n",
        "attributes of a tensor are as follow:\n",
        "\n",
        "\n",
        "1.   Data Type fo the Tensor\n",
        "2.   Shape of the Tensor\n",
        "3.   Device that Tensor Stored\n",
        "\n"
      ],
      "metadata": {
        "id": "dC4797vVjzkV"
      }
    },
    {
      "cell_type": "code",
      "source": [
        "shape = (5,8)\n",
        "tensor = torch.rand(shape)\n",
        "print(f\"Shape of the Tensor: {tensor.shape} \")\n",
        "print(f\"Data Type of the Tensor: {tensor.dtype}\")\n",
        "print(f\"Stored Device of the Tensor: {tensor.device}\")"
      ],
      "metadata": {
        "colab": {
          "base_uri": "https://localhost:8080/"
        },
        "id": "_h9PX-ltjaIo",
        "outputId": "13764aff-3c14-4f82-fba7-1e87fe999e67"
      },
      "execution_count": 7,
      "outputs": [
        {
          "output_type": "stream",
          "name": "stdout",
          "text": [
            "Shape of the Tensor: torch.Size([5, 8]) \n",
            "Data Type of the Tensor: torch.float32\n",
            "Stored Device of the Tensor: cpu\n"
          ]
        }
      ]
    },
    {
      "cell_type": "markdown",
      "source": [
        "**Tensor Operations**\n",
        "There are 100 of tensor operations in pytorch documentation. \n",
        "like including arithmetic, linear algebra, matrix manipulation (transposing, indexing, slicing), sampling and more are comprehensively described [Here](https://pytorch.org/docs/stable/torch.html)"
      ],
      "metadata": {
        "id": "uM3m4J4jnn06"
      }
    },
    {
      "cell_type": "markdown",
      "source": [
        "**Running Device**\n",
        "Tensor can be run in CPU or GPU. \n",
        "we can check the availability of the GPU then we can set the enviroment using .to method"
      ],
      "metadata": {
        "id": "4wykTGdXoY9Q"
      }
    },
    {
      "cell_type": "code",
      "source": [
        "if(torch.cuda.is_available()):\n",
        "  tensor = tensor.to(\"gpu\")\n",
        "  "
      ],
      "metadata": {
        "id": "WU0Y14nJoQBc"
      },
      "execution_count": 8,
      "outputs": []
    },
    {
      "cell_type": "markdown",
      "source": [
        "**lets try some operations on Tensor**"
      ],
      "metadata": {
        "id": "8aintdyhKXjc"
      }
    },
    {
      "cell_type": "code",
      "source": [
        "myTensor = torch.ones(3,4)\n",
        "print(f\"First row: {myTensor[0]}\")\n",
        "print(f\"First column: {myTensor[:, 0]}\")\n",
        "print(f\"Last column: {myTensor[..., -1]}\")\n",
        "myTensor[:,1] = 0\n",
        "print(myTensor)"
      ],
      "metadata": {
        "id": "jIU9K6zxKYOk",
        "outputId": "d65fe4f8-ac24-450a-c169-68ee16ace04d",
        "colab": {
          "base_uri": "https://localhost:8080/"
        }
      },
      "execution_count": 10,
      "outputs": [
        {
          "output_type": "stream",
          "name": "stdout",
          "text": [
            "First row: tensor([1., 1., 1., 1.])\n",
            "First column: tensor([1., 1., 1.])\n",
            "Last column: tensor([1., 1., 1.])\n",
            "tensor([[1., 0., 1., 1.],\n",
            "        [1., 0., 1., 1.],\n",
            "        [1., 0., 1., 1.]])\n"
          ]
        }
      ]
    }
  ]
}