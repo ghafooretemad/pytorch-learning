{
  "nbformat": 4,
  "nbformat_minor": 0,
  "metadata": {
    "colab": {
      "name": "Tensor.ipynb",
      "provenance": [],
      "authorship_tag": "ABX9TyOh/MEvgdBkkoWea0EIiR/k",
      "include_colab_link": true
    },
    "kernelspec": {
      "name": "python3",
      "display_name": "Python 3"
    },
    "language_info": {
      "name": "python"
    }
  },
  "cells": [
    {
      "cell_type": "markdown",
      "metadata": {
        "id": "view-in-github",
        "colab_type": "text"
      },
      "source": [
        "<a href=\"https://colab.research.google.com/github/ghafooretemad/pytorch-learning/blob/main/Tensor.ipynb\" target=\"_parent\"><img src=\"https://colab.research.google.com/assets/colab-badge.svg\" alt=\"Open In Colab\"/></a>"
      ]
    },
    {
      "cell_type": "code",
      "execution_count": 1,
      "metadata": {
        "id": "Sy2_NydAfubc"
      },
      "outputs": [],
      "source": [
        "import numpy as np\n",
        "import torch"
      ]
    },
    {
      "cell_type": "markdown",
      "source": [
        "Tensor is like numpy ndarray that run in all kinds of hardware like GPU\n",
        "Tensor can be initialised in different ways like:"
      ],
      "metadata": {
        "id": "Wq7yWCO0hECt"
      }
    },
    {
      "cell_type": "code",
      "source": [
        "input_data = [[2,4,5], [1,3,5], [3,6,7]]\n",
        "my_tensor = torch.tensor(input_data)\n",
        "print(my_tensor)"
      ],
      "metadata": {
        "colab": {
          "base_uri": "https://localhost:8080/"
        },
        "id": "SjlFFwk6g9Vv",
        "outputId": "1313c28a-28eb-4ce3-f105-176816773ddc"
      },
      "execution_count": 5,
      "outputs": [
        {
          "output_type": "stream",
          "name": "stdout",
          "text": [
            "tensor([[2, 4, 5],\n",
            "        [1, 3, 5],\n",
            "        [3, 6, 7]])\n"
          ]
        }
      ]
    },
    {
      "cell_type": "markdown",
      "source": [
        "Tensor can be created from numpy array"
      ],
      "metadata": {
        "id": "kQ0YR1eKhvt7"
      }
    },
    {
      "cell_type": "code",
      "source": [
        "np_array = np.array(input_data)\n",
        "np_tensor = torch.from_numpy(np_array)\n",
        "print(np_tensor)"
      ],
      "metadata": {
        "colab": {
          "base_uri": "https://localhost:8080/"
        },
        "id": "OL26SLHTg9Zq",
        "outputId": "1611fd4c-f6d2-44ce-a081-ab09bc611fcf"
      },
      "execution_count": 4,
      "outputs": [
        {
          "output_type": "stream",
          "name": "stdout",
          "text": [
            "tensor([[2, 4, 5],\n",
            "        [1, 3, 5],\n",
            "        [3, 6, 7]])\n"
          ]
        }
      ]
    },
    {
      "cell_type": "markdown",
      "source": [
        "Tensor can be created from another tensor"
      ],
      "metadata": {
        "id": "fUHReUJuiRJu"
      }
    },
    {
      "cell_type": "code",
      "source": [
        "my_tensor1 = torch.ones_like(my_tensor)\n",
        "print(my_tensor1)"
      ],
      "metadata": {
        "colab": {
          "base_uri": "https://localhost:8080/"
        },
        "id": "gbsrEKffg9cr",
        "outputId": "1af8cb06-e28b-4310-bf73-955aa8742a3b"
      },
      "execution_count": 6,
      "outputs": [
        {
          "output_type": "stream",
          "name": "stdout",
          "text": [
            "tensor([[1, 1, 1],\n",
            "        [1, 1, 1],\n",
            "        [1, 1, 1]])\n"
          ]
        }
      ]
    },
    {
      "cell_type": "markdown",
      "source": [
        "We can modify data type of tensor"
      ],
      "metadata": {
        "id": "bY-ARQ2eio_q"
      }
    },
    {
      "cell_type": "code",
      "source": [
        "my_tensor2 = torch.rand_like(my_tensor1, dtype=torch.float)\n",
        "print(my_tensor2)"
      ],
      "metadata": {
        "colab": {
          "base_uri": "https://localhost:8080/"
        },
        "id": "kp11chmsg9fa",
        "outputId": "76db5040-a595-49fc-c51c-09243b5e41c3"
      },
      "execution_count": 7,
      "outputs": [
        {
          "output_type": "stream",
          "name": "stdout",
          "text": [
            "tensor([[0.8051, 0.4832, 0.9517],\n",
            "        [0.6698, 0.5599, 0.4168],\n",
            "        [0.4600, 0.9092, 0.8396]])\n"
          ]
        }
      ]
    },
    {
      "cell_type": "markdown",
      "source": [
        "In the following example, shape is a tuple of tensor dimension"
      ],
      "metadata": {
        "id": "lnFOc6EjjSYA"
      }
    },
    {
      "cell_type": "code",
      "source": [
        "shape = (3,4)\n",
        "my_dm_tensor = torch.rand(shape)\n",
        "print(my_dm_tensor)"
      ],
      "metadata": {
        "colab": {
          "base_uri": "https://localhost:8080/"
        },
        "id": "jrFAxWybjZTZ",
        "outputId": "91f23a5c-a27a-4d7b-c2dd-f8cf4ae2513b"
      },
      "execution_count": 8,
      "outputs": [
        {
          "output_type": "stream",
          "name": "stdout",
          "text": [
            "tensor([[0.0396, 0.6444, 0.2491, 0.4742],\n",
            "        [0.8447, 0.4653, 0.1775, 0.8452],\n",
            "        [0.6074, 0.7293, 0.5779, 0.3942]])\n"
          ]
        }
      ]
    },
    {
      "cell_type": "markdown",
      "source": [
        "**Attributes of a Tensor**\n",
        "attributes of a tensor are as follow:\n",
        "\n",
        "\n",
        "1.   Data Type fo the Tensor\n",
        "2.   Shape of the Tensor\n",
        "3.   Device that Tensor Stored\n",
        "\n"
      ],
      "metadata": {
        "id": "dC4797vVjzkV"
      }
    },
    {
      "cell_type": "code",
      "source": [
        "shape = (5,8)\n",
        "tensor = torch.rand(shape)\n",
        "print(f\"Shape of the Tensor: {tensor.shape} \")\n",
        "print(f\"Data Type of the Tensor: {tensor.dtype}\")\n",
        "print(f\"Stored Device of the Tensor: {tensor.device}\")"
      ],
      "metadata": {
        "colab": {
          "base_uri": "https://localhost:8080/"
        },
        "id": "_h9PX-ltjaIo",
        "outputId": "436584d5-8fbf-4068-e787-2abc375954df"
      },
      "execution_count": 11,
      "outputs": [
        {
          "output_type": "stream",
          "name": "stdout",
          "text": [
            "Shape of the Tensor: torch.Size([5, 8]) \n",
            "Data Type of the Tensor: torch.float32\n",
            "Stored Device of the Tensor: cpu\n"
          ]
        }
      ]
    }
  ]
}