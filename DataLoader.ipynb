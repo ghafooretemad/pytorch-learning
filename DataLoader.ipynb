{
  "nbformat": 4,
  "nbformat_minor": 0,
  "metadata": {
    "colab": {
      "name": "DataLoader.ipynb",
      "provenance": [],
      "authorship_tag": "ABX9TyNVUtowrgOgldJfJXMe/DH8",
      "include_colab_link": true
    },
    "kernelspec": {
      "name": "python3",
      "display_name": "Python 3"
    },
    "language_info": {
      "name": "python"
    }
  },
  "cells": [
    {
      "cell_type": "markdown",
      "metadata": {
        "id": "view-in-github",
        "colab_type": "text"
      },
      "source": [
        "<a href=\"https://colab.research.google.com/github/ghafooretemad/pytorch-learning/blob/main/DataLoader.ipynb\" target=\"_parent\"><img src=\"https://colab.research.google.com/assets/colab-badge.svg\" alt=\"Open In Colab\"/></a>"
      ]
    },
    {
      "cell_type": "code",
      "execution_count": 1,
      "metadata": {
        "id": "HI8fIbiWL0Gu"
      },
      "outputs": [],
      "source": [
        "import torch\n"
      ]
    },
    {
      "cell_type": "markdown",
      "source": [
        "**Dataset and Data Loader**\n",
        "in order to load your own dataset or use the preload dataset in pytorch you can use  torch.utils.data.DataLoader and torch.utils.data.Dataset; <br> **Dataset** stores data with the corresponding lables and <br> **DataLoader** wrap an iteratable around dataset;\n",
        "\n",
        "**Loading Dataset** <br> In this example we are loading Fashion-MNIST dataset which is a dataset of Zalando’s article images, using **Dataset** of pytorch and pytorchVision\n"
      ],
      "metadata": {
        "id": "X_8FPEt6MRX2"
      }
    },
    {
      "cell_type": "code",
      "source": [
        ""
      ],
      "metadata": {
        "id": "jpo0ekYvMhw0"
      },
      "execution_count": null,
      "outputs": []
    }
  ]
}